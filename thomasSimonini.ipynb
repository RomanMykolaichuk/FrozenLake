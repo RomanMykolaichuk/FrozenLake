{
 "cells": [
  {
   "cell_type": "code",
   "execution_count": 1,
   "metadata": {},
   "outputs": [],
   "source": [
    "import numpy as np \n",
    "import gym \n",
    "import random"
   ]
  },
  {
   "cell_type": "code",
   "execution_count": 2,
   "metadata": {},
   "outputs": [],
   "source": [
    "env=gym.make('FrozenLake-v1')"
   ]
  },
  {
   "cell_type": "code",
   "execution_count": 3,
   "metadata": {},
   "outputs": [],
   "source": [
    "action_size = env.action_space.n\n",
    "state_size = env.observation_space.n"
   ]
  },
  {
   "cell_type": "code",
   "execution_count": 4,
   "metadata": {},
   "outputs": [],
   "source": [
    "q_table=np.zeros((state_size,action_size))"
   ]
  },
  {
   "cell_type": "code",
   "execution_count": 5,
   "metadata": {},
   "outputs": [],
   "source": [
    "total_episodes = 1000000      # Total episodes\n",
    "learning_rate = 0.5          # Learning rate\n",
    "max_steps = 19               # Max steps per episode\n",
    "gamma = 0.95                 # Discounting rate\n",
    "\n",
    "# Exploration parameters\n",
    "epsilon = 1.0                 # Exploration rate\n",
    "max_epsilon = 1.0             # Exploration probability at start\n",
    "min_epsilon = 0.01            # Minimum exploration probability \n",
    "decay_rate = 0.0025            # Exponential decay rate for exploration prob"
   ]
  },
  {
   "cell_type": "code",
   "execution_count": 6,
   "metadata": {},
   "outputs": [
    {
     "name": "stdout",
     "output_type": "stream",
     "text": [
      "Score over time: 0.156007\n",
      "[[2.02079364e-01 1.05434657e-01 1.00548353e-01 1.06700941e-01]\n",
      " [2.78179600e-02 3.77725189e-02 2.23798310e-02 7.84468741e-02]\n",
      " [1.83669022e-02 1.43730956e-02 2.35630190e-02 4.68688841e-02]\n",
      " [1.63304023e-02 9.90838627e-03 7.81434754e-03 4.15207868e-02]\n",
      " [2.62040373e-01 1.14190619e-01 1.08535678e-01 1.06695410e-01]\n",
      " [0.00000000e+00 0.00000000e+00 0.00000000e+00 0.00000000e+00]\n",
      " [2.49956458e-01 1.30113615e-03 1.12874072e-03 6.79011212e-04]\n",
      " [0.00000000e+00 0.00000000e+00 0.00000000e+00 0.00000000e+00]\n",
      " [8.42972861e-02 1.75826049e-02 4.24136974e-02 2.62086937e-01]\n",
      " [1.00851913e-01 2.13953112e-01 1.96897050e-02 4.59827822e-01]\n",
      " [5.92128622e-01 6.85547865e-02 1.25419314e-02 2.71018603e-02]\n",
      " [0.00000000e+00 0.00000000e+00 0.00000000e+00 0.00000000e+00]\n",
      " [0.00000000e+00 0.00000000e+00 0.00000000e+00 0.00000000e+00]\n",
      " [1.57407665e-01 2.86037391e-01 5.04426896e-01 1.77530656e-01]\n",
      " [2.86291153e-01 6.83625346e-01 2.23387630e-01 1.98125207e-01]\n",
      " [0.00000000e+00 0.00000000e+00 0.00000000e+00 0.00000000e+00]]\n"
     ]
    }
   ],
   "source": [
    "rewards=[]\n",
    "\n",
    "for episode in range(total_episodes):\n",
    "    state=env.reset()\n",
    "    step=0\n",
    "    done=False\n",
    "    total_rewards=0\n",
    "    for step in range(max_steps):\n",
    "        exp_exp_tradeoff=random.uniform(0,1)\n",
    "        if exp_exp_tradeoff>epsilon:\n",
    "            action=np.argmax(q_table[state,:])\n",
    "        else:\n",
    "            action=env.action_space.sample()\n",
    "        new_state,reward,done,info = env.step(action)\n",
    "        q_table[state,action]= -0.0001+q_table[state,action]+learning_rate*(reward+gamma*np.max(q_table[new_state,:])-q_table[state,action])\n",
    "\n",
    "        state=new_state\n",
    "        total_rewards+=reward\n",
    "\n",
    "        if done==True: \n",
    "            break\n",
    "\n",
    "    epsilon=min_epsilon+(max_epsilon-min_epsilon)*np.exp(-decay_rate*episode)\n",
    "    rewards.append(total_rewards)\n",
    "\n",
    "print (\"Score over time: \" +  str(sum(rewards)/total_episodes))\n",
    "print(q_table)"
   ]
  },
  {
   "cell_type": "code",
   "execution_count": 7,
   "metadata": {},
   "outputs": [
    {
     "name": "stdout",
     "output_type": "stream",
     "text": [
      "EPISODE  0\n",
      "We fell into a hole ☠️\n",
      "Number of steps 32\n",
      "EPISODE  1\n",
      "We fell into a hole ☠️\n",
      "Number of steps 38\n",
      "EPISODE  2\n",
      "We fell into a hole ☠️\n",
      "Number of steps 5\n",
      "EPISODE  3\n",
      "We reached our Goal 🏆\n",
      "Number of steps 57\n",
      "EPISODE  4\n",
      "We fell into a hole ☠️\n",
      "Number of steps 25\n",
      "TOTAL WINS  1\n"
     ]
    }
   ],
   "source": [
    "env.reset()\n",
    "wins=0\n",
    "\n",
    "for episode in range(5):\n",
    "    state = env.reset()\n",
    "    step = 0\n",
    "    done = False\n",
    "    # print(\"****************************************************\")\n",
    "    print(\"EPISODE \", episode)\n",
    "\n",
    "    for step in range(max_steps*100):\n",
    "        \n",
    "        # Take the action (index) that have the maximum expected future reward given that state\n",
    "        action = np.argmax(q_table[state,:])\n",
    "        \n",
    "        new_state, reward, done, info = env.step(action)\n",
    "        \n",
    "        if done:\n",
    "            # Here, we decide to only print the last state (to see if our agent is on the goal or fall into an hole)\n",
    "            # env.render()\n",
    "            if new_state == 15:\n",
    "                wins+=1\n",
    "                print(\"We reached our Goal 🏆\")\n",
    "            else:\n",
    "                print(\"We fell into a hole ☠️\")\n",
    "            \n",
    "            # We print the number of step it took.\n",
    "            print(\"Number of steps\", step)\n",
    "            \n",
    "            break\n",
    "        state = new_state\n",
    "env.close()\n",
    "print('TOTAL WINS ', wins)"
   ]
  }
 ],
 "metadata": {
  "interpreter": {
   "hash": "45c35a36beb3d1c2f42a56be9142246513f9d24015e8e4e22f7c95d5b06ff02e"
  },
  "kernelspec": {
   "display_name": "Python 3.7.11 64-bit ('tutorialspoint': conda)",
   "language": "python",
   "name": "python3"
  },
  "language_info": {
   "codemirror_mode": {
    "name": "ipython",
    "version": 3
   },
   "file_extension": ".py",
   "mimetype": "text/x-python",
   "name": "python",
   "nbconvert_exporter": "python",
   "pygments_lexer": "ipython3",
   "version": "3.7.11"
  },
  "orig_nbformat": 4
 },
 "nbformat": 4,
 "nbformat_minor": 2
}
